{
 "cells": [
  {
   "metadata": {},
   "cell_type": "markdown",
   "source": "It is important to test the robustness of the model",
   "id": "9b9c8887a5cbe0e2"
  },
  {
   "metadata": {
    "collapsed": true
   },
   "cell_type": "code",
   "outputs": [],
   "execution_count": null,
   "source": [
    "import copy\n",
    "\n",
    "from functions import find_peaks, display_atoms, display_topomap, display_ffts\n",
    "\n"
   ],
   "id": "initial_id"
  },
  {
   "metadata": {},
   "cell_type": "code",
   "outputs": [],
   "execution_count": null,
   "source": [
    "# Here, we load the data from a sleep stage dataset from one single subject.\n",
    "# We separate the resultant epochs into their stage so we can analyse if there is\n",
    "# some pattern that the CSC model can recognize to distinguish between stages.\n",
    "\n",
    "from mne_data import load_data, separate_sleep_stages\n",
    "\n",
    "sfreq = 100\n",
    "\n",
    "t_lim = (0, 30 - 1/sfreq)\n",
    "X, info = load_data(dataset='sleep', epoch=t_lim, sfreq=sfreq)\n",
    "\n",
    "X_stages = separate_sleep_stages(X, info)\n",
    "\n",
    "stages = ['Sleep stage W','Sleep stage 1','Sleep stage 2','Sleep stage 3/4','Sleep stage R']\n"
   ],
   "id": "7b71855bbeb2530d"
  },
  {
   "metadata": {},
   "cell_type": "code",
   "outputs": [],
   "execution_count": null,
   "source": [
    "# Next, we define the parameters for multivariate CSC\n",
    "\n",
    "# First, for solving the optimization problem using data from all stages\n",
    "from alphacsc import BatchCDL\n",
    "\n",
    "# Define the shape of the dictionary\n",
    "n_atoms = 10\n",
    "n_times_atom = int(round(sfreq * 1.0))  # 1000. ms\n",
    "\n",
    "cdl = BatchCDL(\n",
    "    # Shape of the dictionary\n",
    "    n_atoms=n_atoms,\n",
    "    n_times_atom=n_times_atom,\n",
    "    # Request a rank1 dictionary with unit norm temporal and spatial maps\n",
    "    rank1=True, uv_constraint='separate',\n",
    "    # Initialize the dictionary with random chunk from the data\n",
    "    D_init='chunk',\n",
    "    # rescale the regularization parameter to be 20% of lambda_max\n",
    "    lmbd_max=\"scaled\", reg=.2,\n",
    "    # Number of iteration for the alternate minimization and cvg threshold\n",
    "    n_iter=100, eps=1e-4,\n",
    "    # solver for the z-step\n",
    "    solver_z=\"lgcd\", solver_z_kwargs={'tol': 1e-2, 'max_iter': 1000},\n",
    "    # solver for the d-step\n",
    "    solver_d='alternate_adaptive', solver_d_kwargs={'max_iter': 300},\n",
    "    # Technical parameters\n",
    "    verbose=1, random_state=0, n_jobs=6)\n",
    "\n",
    "# Here, we define for each of the stages individually, so we search for less atoms\n",
    "n_atoms_stage = 4\n",
    "n_times_atom = int(round(sfreq * 1.0))  # 1000. ms\n",
    "\n",
    "cdl_stage = BatchCDL(\n",
    "    # Shape of the dictionary\n",
    "    n_atoms=n_atoms_stage,\n",
    "    n_times_atom=n_times_atom,\n",
    "    # Request a rank1 dictionary with unit norm temporal and spatial maps\n",
    "    rank1=True, uv_constraint='separate',\n",
    "    # Initialize the dictionary with random chunk from the data\n",
    "    D_init='chunk',\n",
    "    # rescale the regularization parameter to be 20% of lambda_max\n",
    "    lmbd_max=\"scaled\", reg=.2,\n",
    "    # Number of iteration for the alternate minimization and cvg threshold\n",
    "    n_iter=100, eps=1e-4,\n",
    "    # solver for the z-step\n",
    "    solver_z=\"lgcd\", solver_z_kwargs={'tol': 1e-2, 'max_iter': 1000},\n",
    "    # solver for the d-step\n",
    "    solver_d='alternate_adaptive', solver_d_kwargs={'max_iter': 300},\n",
    "    # Technical parameters\n",
    "    verbose=1, random_state=0, n_jobs=6)\n"
   ],
   "id": "bd92ae4be30986ee"
  },
  {
   "metadata": {},
   "cell_type": "markdown",
   "source": "",
   "id": "df3fd8221eac2d91"
  },
  {
   "metadata": {},
   "cell_type": "code",
   "outputs": [],
   "execution_count": null,
   "source": [
    "# Fit the model and learn rank1 atoms for all\n",
    "cdl.fit(X)\n",
    "\n",
    "###############################################################################\n",
    "# Display the 4-th atom, which displays a :math:`\\mu`-waveform in its temporal\n",
    "# pattern.\n",
    "\n",
    "# display all\n",
    "display_atoms(cdl, n_atoms, 2, 5, sfreq)\n",
    "display_ffts(cdl, n_atoms, 2, 5, sfreq)\n",
    "display_topomap(cdl, n_atoms, 5, 5, info)\n"
   ],
   "id": "1bca2f6ee8ab186c"
  },
  {
   "metadata": {},
   "cell_type": "markdown",
   "source": "",
   "id": "a2707a349dcd1263"
  },
  {
   "metadata": {},
   "cell_type": "code",
   "outputs": [],
   "execution_count": null,
   "source": [
    "# Now, we can see the patterns found for each\n",
    "\n",
    "rhythms = {4:'Delta',\n",
    "           8:'Theta',\n",
    "           12:'Alpha-Mu',\n",
    "           30:'Beta'}\n",
    "\n",
    "for i, stage in enumerate(stages):\n",
    "\n",
    "    X_stage = X_stages[stage]\n",
    "\n",
    "    cdl_stage_ = copy.deepcopy(cdl_stage)\n",
    "    cdl_stage_.fit(X_stage)\n",
    "\n",
    "    # display found atoms\n",
    "    display_atoms(cdl_stage_, n_atoms_stage, 1, 4, sfreq)\n",
    "    #display_ffts(cdl_stage_, n_atoms_stage, 1, 4, sfreq)\n",
    "\n",
    "    main_rhythm = find_peaks(cdl_stage_, n_atoms_stage, info, figure=True, rows=1,\n",
    "                             columns=4, sfreq=100, savefig=f'waves_per_region_{i}')\n",
    "\n",
    "    print(main_rhythm)"
   ],
   "id": "6859b1540825a006"
  }
 ],
 "metadata": {
  "kernelspec": {
   "display_name": "Python 3",
   "language": "python",
   "name": "python3"
  },
  "language_info": {
   "codemirror_mode": {
    "name": "ipython",
    "version": 2
   },
   "file_extension": ".py",
   "mimetype": "text/x-python",
   "name": "python",
   "nbconvert_exporter": "python",
   "pygments_lexer": "ipython2",
   "version": "2.7.6"
  }
 },
 "nbformat": 4,
 "nbformat_minor": 5
}
